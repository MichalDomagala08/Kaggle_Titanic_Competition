{
 "cells": [
  {
   "cell_type": "code",
   "execution_count": 1,
   "id": "e41cbdc4",
   "metadata": {},
   "outputs": [],
   "source": [
    "import os\n",
    "TITANIC_PATH = os.path.join(\"C:\\\\Users\\\\barak\\\\Documents\\\\GitHub\\\\\\Kaggle_Titanic_Competition\",\"Dataset\")"
   ]
  },
  {
   "cell_type": "code",
   "execution_count": 2,
   "id": "3fd178c3",
   "metadata": {},
   "outputs": [],
   "source": [
    "import pandas as pd\n",
    "\n",
    "def load_titanic_data(filename, titanic_path=TITANIC_PATH):\n",
    "    csv_path = os.path.join(titanic_path, filename)\n",
    "    return pd.read_csv(csv_path)"
   ]
  },
  {
   "cell_type": "code",
   "execution_count": 3,
   "id": "ac3a786e",
   "metadata": {},
   "outputs": [],
   "source": [
    "train_data = load_titanic_data(\"train.csv\")\n",
    "test_data = load_titanic_data(\"test.csv\")"
   ]
  },
  {
   "cell_type": "code",
   "execution_count": 4,
   "id": "c8f2bc7f",
   "metadata": {},
   "outputs": [],
   "source": [
    "y = train_data.Survived\n",
    "X = train_data.drop(['Survived'],axis=1)\n",
    "\n",
    "from sklearn.model_selection import train_test_split\n",
    "X_train, X_val , y_train, y_val= train_test_split(X,y,test_size=0.20)\n"
   ]
  },
  {
   "cell_type": "code",
   "execution_count": 5,
   "id": "1e3d67cb",
   "metadata": {},
   "outputs": [],
   "source": [
    "from sklearn.base import BaseEstimator, TransformerMixin\n",
    "\n",
    "# A class to select numerical or categorical columns \n",
    "# since Scikit-Learn doesn't handle DataFrames yet\n",
    "# To szybka klasa która robi i zamienia dane kategoryczne na numeryczne\n",
    "# Zamieniamy na dane numeryczne ABC i jeśli chcemy zamienic na numeryczne to bierzemy one hot encode\n",
    "\n",
    "class DataFrameSelector(BaseEstimator, TransformerMixin):\n",
    "    def __init__(self, attribute_names):\n",
    "        self.attribute_names = attribute_names\n",
    "    def fit(self, X, y=None):\n",
    "        return self\n",
    "    def transform(self, X):\n",
    "        return X[self.attribute_names]"
   ]
  },
  {
   "cell_type": "code",
   "execution_count": 6,
   "id": "b75afd0d",
   "metadata": {},
   "outputs": [],
   "source": [
    "from sklearn.pipeline import Pipeline\n",
    "from sklearn.impute import SimpleImputer\n",
    "from sklearn.preprocessing import StandardScaler\n",
    "\n",
    "#Imputer wypełnia dane na odstawie tej Strategoo\n",
    "num_pipeline = Pipeline([\n",
    "        (\"select_numeric\", DataFrameSelector([\"Age\",'Pclass',])),\n",
    "        (\"scaler\", StandardScaler()),\n",
    "        (\"imputer\", SimpleImputer(strategy=\"median\")),\n",
    "    ])\n"
   ]
  },
  {
   "cell_type": "code",
   "execution_count": 7,
   "id": "75128972",
   "metadata": {},
   "outputs": [
    {
     "data": {
      "text/plain": [
       "array([[-0.10520516,  0.83827931],\n",
       "       [ 0.02967173, -0.36022444],\n",
       "       [ 1.44587899,  0.83827931],\n",
       "       ...,\n",
       "       [-0.10520516,  0.83827931],\n",
       "       [-1.92604307, -0.36022444],\n",
       "       [ 0.50174082, -1.55872819]])"
      ]
     },
     "execution_count": 7,
     "metadata": {},
     "output_type": "execute_result"
    }
   ],
   "source": [
    "\n",
    "num_pipeline.fit_transform(X_train)"
   ]
  },
  {
   "cell_type": "code",
   "execution_count": 8,
   "id": "b396c2b6",
   "metadata": {},
   "outputs": [],
   "source": [
    "# Inspired from stackoverflow.com/questions/25239958\n",
    "\n",
    "# Szybka klasa która wylicza najczęściej występujacy element itp\n",
    "# \n",
    "class MostFrequentImputer(BaseEstimator, TransformerMixin):\n",
    "    def fit(self, X, y=None):\n",
    "        self.most_frequent_ = pd.Series([X[c].value_counts().index[0] for c in X],\n",
    "                                        index=X.columns)\n",
    "        return self\n",
    "    def transform(self, X, y=None):\n",
    "        return X.fillna(self.most_frequent_)"
   ]
  },
  {
   "cell_type": "code",
   "execution_count": 9,
   "id": "c47c19d9",
   "metadata": {},
   "outputs": [],
   "source": [
    "# from future_encoders import OneHotEncoder\n",
    "from sklearn.preprocessing import OneHotEncoder\n",
    "\n",
    "cat_pipeline = Pipeline([\n",
    "        (\"select_cat\", DataFrameSelector(['Embarked','Name','Sex','Ticket','Cabin'])),\n",
    "        (\"imputer\", MostFrequentImputer()),\n",
    "        (\"cat_encoder\", OneHotEncoder(sparse=False, handle_unknown = 'ignore')),\n",
    "    ])\n",
    "\n"
   ]
  },
  {
   "cell_type": "code",
   "execution_count": 10,
   "id": "5dfe499d",
   "metadata": {},
   "outputs": [
    {
     "data": {
      "text/plain": [
       "array([[0., 0., 1., ..., 0., 0., 1.],\n",
       "       [0., 0., 1., ..., 0., 0., 1.],\n",
       "       [0., 0., 1., ..., 0., 0., 1.],\n",
       "       ...,\n",
       "       [0., 1., 0., ..., 0., 0., 1.],\n",
       "       [1., 0., 0., ..., 0., 0., 1.],\n",
       "       [0., 0., 1., ..., 0., 0., 0.]])"
      ]
     },
     "execution_count": 10,
     "metadata": {},
     "output_type": "execute_result"
    }
   ],
   "source": [
    "cat_pipeline.fit_transform(X_train)"
   ]
  },
  {
   "cell_type": "code",
   "execution_count": 11,
   "id": "bdc079c4",
   "metadata": {},
   "outputs": [],
   "source": [
    "from sklearn.pipeline import FeatureUnion\n",
    "from sklearn.preprocessing import StandardScaler\n",
    "\n",
    "#Mamy tutaj Feature Union którea łączy nasze cechy  i pipelien'y\n",
    "preprocess_pipeline = FeatureUnion(transformer_list=[\n",
    "        (\"num_pipeline\", num_pipeline),\n",
    "        (\"cat_pipeline\", cat_pipeline),\n",
    "    ])"
   ]
  },
  {
   "cell_type": "code",
   "execution_count": 12,
   "id": "0514dd79",
   "metadata": {},
   "outputs": [],
   "source": [
    "from sklearn.model_selection import StratifiedKFold\n",
    "\n",
    "seed=123\n",
    "kfold = StratifiedKFold(n_splits=5)"
   ]
  },
  {
   "cell_type": "code",
   "execution_count": 13,
   "id": "48e5e523",
   "metadata": {},
   "outputs": [
    {
     "ename": "KeyboardInterrupt",
     "evalue": "",
     "output_type": "error",
     "traceback": [
      "\u001b[1;31m---------------------------------------------------------------------------\u001b[0m",
      "\u001b[1;31mKeyboardInterrupt\u001b[0m                         Traceback (most recent call last)",
      "\u001b[1;32m~\\AppData\\Local\\Temp/ipykernel_40808/2535789558.py\u001b[0m in \u001b[0;36m<module>\u001b[1;34m\u001b[0m\n\u001b[0;32m     32\u001b[0m \u001b[0mgrid_4\u001b[0m \u001b[1;33m=\u001b[0m \u001b[0mGridSearchCV\u001b[0m\u001b[1;33m(\u001b[0m\u001b[0mpipe_4\u001b[0m\u001b[1;33m,\u001b[0m \u001b[0mparam_grid_2\u001b[0m\u001b[1;33m,\u001b[0m \u001b[0mcv\u001b[0m\u001b[1;33m=\u001b[0m\u001b[0mkfold\u001b[0m\u001b[1;33m)\u001b[0m\u001b[1;33m\u001b[0m\u001b[1;33m\u001b[0m\u001b[0m\n\u001b[0;32m     33\u001b[0m \u001b[1;33m\u001b[0m\u001b[0m\n\u001b[1;32m---> 34\u001b[1;33m \u001b[0mgrid_1\u001b[0m\u001b[1;33m.\u001b[0m\u001b[0mfit\u001b[0m\u001b[1;33m(\u001b[0m\u001b[0mX_train\u001b[0m\u001b[1;33m,\u001b[0m \u001b[0my_train\u001b[0m\u001b[1;33m)\u001b[0m\u001b[1;33m\u001b[0m\u001b[1;33m\u001b[0m\u001b[0m\n\u001b[0m\u001b[0;32m     35\u001b[0m \u001b[0mgrid_2\u001b[0m\u001b[1;33m.\u001b[0m\u001b[0mfit\u001b[0m\u001b[1;33m(\u001b[0m\u001b[0mX_train\u001b[0m\u001b[1;33m,\u001b[0m \u001b[0my_train\u001b[0m\u001b[1;33m)\u001b[0m\u001b[1;33m\u001b[0m\u001b[1;33m\u001b[0m\u001b[0m\n\u001b[0;32m     36\u001b[0m \u001b[0mgrid_3\u001b[0m\u001b[1;33m.\u001b[0m\u001b[0mfit\u001b[0m\u001b[1;33m(\u001b[0m\u001b[0mX_train\u001b[0m\u001b[1;33m,\u001b[0m \u001b[0my_train\u001b[0m\u001b[1;33m)\u001b[0m\u001b[1;33m\u001b[0m\u001b[1;33m\u001b[0m\u001b[0m\n",
      "\u001b[1;32m~\\anaconda3\\lib\\site-packages\\sklearn\\utils\\validation.py\u001b[0m in \u001b[0;36minner_f\u001b[1;34m(*args, **kwargs)\u001b[0m\n\u001b[0;32m     61\u001b[0m             \u001b[0mextra_args\u001b[0m \u001b[1;33m=\u001b[0m \u001b[0mlen\u001b[0m\u001b[1;33m(\u001b[0m\u001b[0margs\u001b[0m\u001b[1;33m)\u001b[0m \u001b[1;33m-\u001b[0m \u001b[0mlen\u001b[0m\u001b[1;33m(\u001b[0m\u001b[0mall_args\u001b[0m\u001b[1;33m)\u001b[0m\u001b[1;33m\u001b[0m\u001b[1;33m\u001b[0m\u001b[0m\n\u001b[0;32m     62\u001b[0m             \u001b[1;32mif\u001b[0m \u001b[0mextra_args\u001b[0m \u001b[1;33m<=\u001b[0m \u001b[1;36m0\u001b[0m\u001b[1;33m:\u001b[0m\u001b[1;33m\u001b[0m\u001b[1;33m\u001b[0m\u001b[0m\n\u001b[1;32m---> 63\u001b[1;33m                 \u001b[1;32mreturn\u001b[0m \u001b[0mf\u001b[0m\u001b[1;33m(\u001b[0m\u001b[1;33m*\u001b[0m\u001b[0margs\u001b[0m\u001b[1;33m,\u001b[0m \u001b[1;33m**\u001b[0m\u001b[0mkwargs\u001b[0m\u001b[1;33m)\u001b[0m\u001b[1;33m\u001b[0m\u001b[1;33m\u001b[0m\u001b[0m\n\u001b[0m\u001b[0;32m     64\u001b[0m \u001b[1;33m\u001b[0m\u001b[0m\n\u001b[0;32m     65\u001b[0m             \u001b[1;31m# extra_args > 0\u001b[0m\u001b[1;33m\u001b[0m\u001b[1;33m\u001b[0m\u001b[0m\n",
      "\u001b[1;32m~\\anaconda3\\lib\\site-packages\\sklearn\\model_selection\\_search.py\u001b[0m in \u001b[0;36mfit\u001b[1;34m(self, X, y, groups, **fit_params)\u001b[0m\n\u001b[0;32m    839\u001b[0m                 \u001b[1;32mreturn\u001b[0m \u001b[0mresults\u001b[0m\u001b[1;33m\u001b[0m\u001b[1;33m\u001b[0m\u001b[0m\n\u001b[0;32m    840\u001b[0m \u001b[1;33m\u001b[0m\u001b[0m\n\u001b[1;32m--> 841\u001b[1;33m             \u001b[0mself\u001b[0m\u001b[1;33m.\u001b[0m\u001b[0m_run_search\u001b[0m\u001b[1;33m(\u001b[0m\u001b[0mevaluate_candidates\u001b[0m\u001b[1;33m)\u001b[0m\u001b[1;33m\u001b[0m\u001b[1;33m\u001b[0m\u001b[0m\n\u001b[0m\u001b[0;32m    842\u001b[0m \u001b[1;33m\u001b[0m\u001b[0m\n\u001b[0;32m    843\u001b[0m             \u001b[1;31m# multimetric is determined here because in the case of a callable\u001b[0m\u001b[1;33m\u001b[0m\u001b[1;33m\u001b[0m\u001b[0m\n",
      "\u001b[1;32m~\\anaconda3\\lib\\site-packages\\sklearn\\model_selection\\_search.py\u001b[0m in \u001b[0;36m_run_search\u001b[1;34m(self, evaluate_candidates)\u001b[0m\n\u001b[0;32m   1294\u001b[0m     \u001b[1;32mdef\u001b[0m \u001b[0m_run_search\u001b[0m\u001b[1;33m(\u001b[0m\u001b[0mself\u001b[0m\u001b[1;33m,\u001b[0m \u001b[0mevaluate_candidates\u001b[0m\u001b[1;33m)\u001b[0m\u001b[1;33m:\u001b[0m\u001b[1;33m\u001b[0m\u001b[1;33m\u001b[0m\u001b[0m\n\u001b[0;32m   1295\u001b[0m         \u001b[1;34m\"\"\"Search all candidates in param_grid\"\"\"\u001b[0m\u001b[1;33m\u001b[0m\u001b[1;33m\u001b[0m\u001b[0m\n\u001b[1;32m-> 1296\u001b[1;33m         \u001b[0mevaluate_candidates\u001b[0m\u001b[1;33m(\u001b[0m\u001b[0mParameterGrid\u001b[0m\u001b[1;33m(\u001b[0m\u001b[0mself\u001b[0m\u001b[1;33m.\u001b[0m\u001b[0mparam_grid\u001b[0m\u001b[1;33m)\u001b[0m\u001b[1;33m)\u001b[0m\u001b[1;33m\u001b[0m\u001b[1;33m\u001b[0m\u001b[0m\n\u001b[0m\u001b[0;32m   1297\u001b[0m \u001b[1;33m\u001b[0m\u001b[0m\n\u001b[0;32m   1298\u001b[0m \u001b[1;33m\u001b[0m\u001b[0m\n",
      "\u001b[1;32m~\\anaconda3\\lib\\site-packages\\sklearn\\model_selection\\_search.py\u001b[0m in \u001b[0;36mevaluate_candidates\u001b[1;34m(candidate_params, cv, more_results)\u001b[0m\n\u001b[0;32m    793\u001b[0m                               n_splits, n_candidates, n_candidates * n_splits))\n\u001b[0;32m    794\u001b[0m \u001b[1;33m\u001b[0m\u001b[0m\n\u001b[1;32m--> 795\u001b[1;33m                 out = parallel(delayed(_fit_and_score)(clone(base_estimator),\n\u001b[0m\u001b[0;32m    796\u001b[0m                                                        \u001b[0mX\u001b[0m\u001b[1;33m,\u001b[0m \u001b[0my\u001b[0m\u001b[1;33m,\u001b[0m\u001b[1;33m\u001b[0m\u001b[1;33m\u001b[0m\u001b[0m\n\u001b[0;32m    797\u001b[0m                                                        \u001b[0mtrain\u001b[0m\u001b[1;33m=\u001b[0m\u001b[0mtrain\u001b[0m\u001b[1;33m,\u001b[0m \u001b[0mtest\u001b[0m\u001b[1;33m=\u001b[0m\u001b[0mtest\u001b[0m\u001b[1;33m,\u001b[0m\u001b[1;33m\u001b[0m\u001b[1;33m\u001b[0m\u001b[0m\n",
      "\u001b[1;32m~\\anaconda3\\lib\\site-packages\\joblib\\parallel.py\u001b[0m in \u001b[0;36m__call__\u001b[1;34m(self, iterable)\u001b[0m\n\u001b[0;32m   1044\u001b[0m                 \u001b[0mself\u001b[0m\u001b[1;33m.\u001b[0m\u001b[0m_iterating\u001b[0m \u001b[1;33m=\u001b[0m \u001b[0mself\u001b[0m\u001b[1;33m.\u001b[0m\u001b[0m_original_iterator\u001b[0m \u001b[1;32mis\u001b[0m \u001b[1;32mnot\u001b[0m \u001b[1;32mNone\u001b[0m\u001b[1;33m\u001b[0m\u001b[1;33m\u001b[0m\u001b[0m\n\u001b[0;32m   1045\u001b[0m \u001b[1;33m\u001b[0m\u001b[0m\n\u001b[1;32m-> 1046\u001b[1;33m             \u001b[1;32mwhile\u001b[0m \u001b[0mself\u001b[0m\u001b[1;33m.\u001b[0m\u001b[0mdispatch_one_batch\u001b[0m\u001b[1;33m(\u001b[0m\u001b[0miterator\u001b[0m\u001b[1;33m)\u001b[0m\u001b[1;33m:\u001b[0m\u001b[1;33m\u001b[0m\u001b[1;33m\u001b[0m\u001b[0m\n\u001b[0m\u001b[0;32m   1047\u001b[0m                 \u001b[1;32mpass\u001b[0m\u001b[1;33m\u001b[0m\u001b[1;33m\u001b[0m\u001b[0m\n\u001b[0;32m   1048\u001b[0m \u001b[1;33m\u001b[0m\u001b[0m\n",
      "\u001b[1;32m~\\anaconda3\\lib\\site-packages\\joblib\\parallel.py\u001b[0m in \u001b[0;36mdispatch_one_batch\u001b[1;34m(self, iterator)\u001b[0m\n\u001b[0;32m    859\u001b[0m                 \u001b[1;32mreturn\u001b[0m \u001b[1;32mFalse\u001b[0m\u001b[1;33m\u001b[0m\u001b[1;33m\u001b[0m\u001b[0m\n\u001b[0;32m    860\u001b[0m             \u001b[1;32melse\u001b[0m\u001b[1;33m:\u001b[0m\u001b[1;33m\u001b[0m\u001b[1;33m\u001b[0m\u001b[0m\n\u001b[1;32m--> 861\u001b[1;33m                 \u001b[0mself\u001b[0m\u001b[1;33m.\u001b[0m\u001b[0m_dispatch\u001b[0m\u001b[1;33m(\u001b[0m\u001b[0mtasks\u001b[0m\u001b[1;33m)\u001b[0m\u001b[1;33m\u001b[0m\u001b[1;33m\u001b[0m\u001b[0m\n\u001b[0m\u001b[0;32m    862\u001b[0m                 \u001b[1;32mreturn\u001b[0m \u001b[1;32mTrue\u001b[0m\u001b[1;33m\u001b[0m\u001b[1;33m\u001b[0m\u001b[0m\n\u001b[0;32m    863\u001b[0m \u001b[1;33m\u001b[0m\u001b[0m\n",
      "\u001b[1;32m~\\anaconda3\\lib\\site-packages\\joblib\\parallel.py\u001b[0m in \u001b[0;36m_dispatch\u001b[1;34m(self, batch)\u001b[0m\n\u001b[0;32m    777\u001b[0m         \u001b[1;32mwith\u001b[0m \u001b[0mself\u001b[0m\u001b[1;33m.\u001b[0m\u001b[0m_lock\u001b[0m\u001b[1;33m:\u001b[0m\u001b[1;33m\u001b[0m\u001b[1;33m\u001b[0m\u001b[0m\n\u001b[0;32m    778\u001b[0m             \u001b[0mjob_idx\u001b[0m \u001b[1;33m=\u001b[0m \u001b[0mlen\u001b[0m\u001b[1;33m(\u001b[0m\u001b[0mself\u001b[0m\u001b[1;33m.\u001b[0m\u001b[0m_jobs\u001b[0m\u001b[1;33m)\u001b[0m\u001b[1;33m\u001b[0m\u001b[1;33m\u001b[0m\u001b[0m\n\u001b[1;32m--> 779\u001b[1;33m             \u001b[0mjob\u001b[0m \u001b[1;33m=\u001b[0m \u001b[0mself\u001b[0m\u001b[1;33m.\u001b[0m\u001b[0m_backend\u001b[0m\u001b[1;33m.\u001b[0m\u001b[0mapply_async\u001b[0m\u001b[1;33m(\u001b[0m\u001b[0mbatch\u001b[0m\u001b[1;33m,\u001b[0m \u001b[0mcallback\u001b[0m\u001b[1;33m=\u001b[0m\u001b[0mcb\u001b[0m\u001b[1;33m)\u001b[0m\u001b[1;33m\u001b[0m\u001b[1;33m\u001b[0m\u001b[0m\n\u001b[0m\u001b[0;32m    780\u001b[0m             \u001b[1;31m# A job can complete so quickly than its callback is\u001b[0m\u001b[1;33m\u001b[0m\u001b[1;33m\u001b[0m\u001b[0m\n\u001b[0;32m    781\u001b[0m             \u001b[1;31m# called before we get here, causing self._jobs to\u001b[0m\u001b[1;33m\u001b[0m\u001b[1;33m\u001b[0m\u001b[0m\n",
      "\u001b[1;32m~\\anaconda3\\lib\\site-packages\\joblib\\_parallel_backends.py\u001b[0m in \u001b[0;36mapply_async\u001b[1;34m(self, func, callback)\u001b[0m\n\u001b[0;32m    206\u001b[0m     \u001b[1;32mdef\u001b[0m \u001b[0mapply_async\u001b[0m\u001b[1;33m(\u001b[0m\u001b[0mself\u001b[0m\u001b[1;33m,\u001b[0m \u001b[0mfunc\u001b[0m\u001b[1;33m,\u001b[0m \u001b[0mcallback\u001b[0m\u001b[1;33m=\u001b[0m\u001b[1;32mNone\u001b[0m\u001b[1;33m)\u001b[0m\u001b[1;33m:\u001b[0m\u001b[1;33m\u001b[0m\u001b[1;33m\u001b[0m\u001b[0m\n\u001b[0;32m    207\u001b[0m         \u001b[1;34m\"\"\"Schedule a func to be run\"\"\"\u001b[0m\u001b[1;33m\u001b[0m\u001b[1;33m\u001b[0m\u001b[0m\n\u001b[1;32m--> 208\u001b[1;33m         \u001b[0mresult\u001b[0m \u001b[1;33m=\u001b[0m \u001b[0mImmediateResult\u001b[0m\u001b[1;33m(\u001b[0m\u001b[0mfunc\u001b[0m\u001b[1;33m)\u001b[0m\u001b[1;33m\u001b[0m\u001b[1;33m\u001b[0m\u001b[0m\n\u001b[0m\u001b[0;32m    209\u001b[0m         \u001b[1;32mif\u001b[0m \u001b[0mcallback\u001b[0m\u001b[1;33m:\u001b[0m\u001b[1;33m\u001b[0m\u001b[1;33m\u001b[0m\u001b[0m\n\u001b[0;32m    210\u001b[0m             \u001b[0mcallback\u001b[0m\u001b[1;33m(\u001b[0m\u001b[0mresult\u001b[0m\u001b[1;33m)\u001b[0m\u001b[1;33m\u001b[0m\u001b[1;33m\u001b[0m\u001b[0m\n",
      "\u001b[1;32m~\\anaconda3\\lib\\site-packages\\joblib\\_parallel_backends.py\u001b[0m in \u001b[0;36m__init__\u001b[1;34m(self, batch)\u001b[0m\n\u001b[0;32m    570\u001b[0m         \u001b[1;31m# Don't delay the application, to avoid keeping the input\u001b[0m\u001b[1;33m\u001b[0m\u001b[1;33m\u001b[0m\u001b[0m\n\u001b[0;32m    571\u001b[0m         \u001b[1;31m# arguments in memory\u001b[0m\u001b[1;33m\u001b[0m\u001b[1;33m\u001b[0m\u001b[0m\n\u001b[1;32m--> 572\u001b[1;33m         \u001b[0mself\u001b[0m\u001b[1;33m.\u001b[0m\u001b[0mresults\u001b[0m \u001b[1;33m=\u001b[0m \u001b[0mbatch\u001b[0m\u001b[1;33m(\u001b[0m\u001b[1;33m)\u001b[0m\u001b[1;33m\u001b[0m\u001b[1;33m\u001b[0m\u001b[0m\n\u001b[0m\u001b[0;32m    573\u001b[0m \u001b[1;33m\u001b[0m\u001b[0m\n\u001b[0;32m    574\u001b[0m     \u001b[1;32mdef\u001b[0m \u001b[0mget\u001b[0m\u001b[1;33m(\u001b[0m\u001b[0mself\u001b[0m\u001b[1;33m)\u001b[0m\u001b[1;33m:\u001b[0m\u001b[1;33m\u001b[0m\u001b[1;33m\u001b[0m\u001b[0m\n",
      "\u001b[1;32m~\\anaconda3\\lib\\site-packages\\joblib\\parallel.py\u001b[0m in \u001b[0;36m__call__\u001b[1;34m(self)\u001b[0m\n\u001b[0;32m    260\u001b[0m         \u001b[1;31m# change the default number of processes to -1\u001b[0m\u001b[1;33m\u001b[0m\u001b[1;33m\u001b[0m\u001b[0m\n\u001b[0;32m    261\u001b[0m         \u001b[1;32mwith\u001b[0m \u001b[0mparallel_backend\u001b[0m\u001b[1;33m(\u001b[0m\u001b[0mself\u001b[0m\u001b[1;33m.\u001b[0m\u001b[0m_backend\u001b[0m\u001b[1;33m,\u001b[0m \u001b[0mn_jobs\u001b[0m\u001b[1;33m=\u001b[0m\u001b[0mself\u001b[0m\u001b[1;33m.\u001b[0m\u001b[0m_n_jobs\u001b[0m\u001b[1;33m)\u001b[0m\u001b[1;33m:\u001b[0m\u001b[1;33m\u001b[0m\u001b[1;33m\u001b[0m\u001b[0m\n\u001b[1;32m--> 262\u001b[1;33m             return [func(*args, **kwargs)\n\u001b[0m\u001b[0;32m    263\u001b[0m                     for func, args, kwargs in self.items]\n\u001b[0;32m    264\u001b[0m \u001b[1;33m\u001b[0m\u001b[0m\n",
      "\u001b[1;32m~\\anaconda3\\lib\\site-packages\\joblib\\parallel.py\u001b[0m in \u001b[0;36m<listcomp>\u001b[1;34m(.0)\u001b[0m\n\u001b[0;32m    260\u001b[0m         \u001b[1;31m# change the default number of processes to -1\u001b[0m\u001b[1;33m\u001b[0m\u001b[1;33m\u001b[0m\u001b[0m\n\u001b[0;32m    261\u001b[0m         \u001b[1;32mwith\u001b[0m \u001b[0mparallel_backend\u001b[0m\u001b[1;33m(\u001b[0m\u001b[0mself\u001b[0m\u001b[1;33m.\u001b[0m\u001b[0m_backend\u001b[0m\u001b[1;33m,\u001b[0m \u001b[0mn_jobs\u001b[0m\u001b[1;33m=\u001b[0m\u001b[0mself\u001b[0m\u001b[1;33m.\u001b[0m\u001b[0m_n_jobs\u001b[0m\u001b[1;33m)\u001b[0m\u001b[1;33m:\u001b[0m\u001b[1;33m\u001b[0m\u001b[1;33m\u001b[0m\u001b[0m\n\u001b[1;32m--> 262\u001b[1;33m             return [func(*args, **kwargs)\n\u001b[0m\u001b[0;32m    263\u001b[0m                     for func, args, kwargs in self.items]\n\u001b[0;32m    264\u001b[0m \u001b[1;33m\u001b[0m\u001b[0m\n",
      "\u001b[1;32m~\\anaconda3\\lib\\site-packages\\sklearn\\utils\\fixes.py\u001b[0m in \u001b[0;36m__call__\u001b[1;34m(self, *args, **kwargs)\u001b[0m\n\u001b[0;32m    220\u001b[0m     \u001b[1;32mdef\u001b[0m \u001b[0m__call__\u001b[0m\u001b[1;33m(\u001b[0m\u001b[0mself\u001b[0m\u001b[1;33m,\u001b[0m \u001b[1;33m*\u001b[0m\u001b[0margs\u001b[0m\u001b[1;33m,\u001b[0m \u001b[1;33m**\u001b[0m\u001b[0mkwargs\u001b[0m\u001b[1;33m)\u001b[0m\u001b[1;33m:\u001b[0m\u001b[1;33m\u001b[0m\u001b[1;33m\u001b[0m\u001b[0m\n\u001b[0;32m    221\u001b[0m         \u001b[1;32mwith\u001b[0m \u001b[0mconfig_context\u001b[0m\u001b[1;33m(\u001b[0m\u001b[1;33m**\u001b[0m\u001b[0mself\u001b[0m\u001b[1;33m.\u001b[0m\u001b[0mconfig\u001b[0m\u001b[1;33m)\u001b[0m\u001b[1;33m:\u001b[0m\u001b[1;33m\u001b[0m\u001b[1;33m\u001b[0m\u001b[0m\n\u001b[1;32m--> 222\u001b[1;33m             \u001b[1;32mreturn\u001b[0m \u001b[0mself\u001b[0m\u001b[1;33m.\u001b[0m\u001b[0mfunction\u001b[0m\u001b[1;33m(\u001b[0m\u001b[1;33m*\u001b[0m\u001b[0margs\u001b[0m\u001b[1;33m,\u001b[0m \u001b[1;33m**\u001b[0m\u001b[0mkwargs\u001b[0m\u001b[1;33m)\u001b[0m\u001b[1;33m\u001b[0m\u001b[1;33m\u001b[0m\u001b[0m\n\u001b[0m",
      "\u001b[1;32m~\\anaconda3\\lib\\site-packages\\sklearn\\model_selection\\_validation.py\u001b[0m in \u001b[0;36m_fit_and_score\u001b[1;34m(estimator, X, y, scorer, train, test, verbose, parameters, fit_params, return_train_score, return_parameters, return_n_test_samples, return_times, return_estimator, split_progress, candidate_progress, error_score)\u001b[0m\n\u001b[0;32m    596\u001b[0m             \u001b[0mestimator\u001b[0m\u001b[1;33m.\u001b[0m\u001b[0mfit\u001b[0m\u001b[1;33m(\u001b[0m\u001b[0mX_train\u001b[0m\u001b[1;33m,\u001b[0m \u001b[1;33m**\u001b[0m\u001b[0mfit_params\u001b[0m\u001b[1;33m)\u001b[0m\u001b[1;33m\u001b[0m\u001b[1;33m\u001b[0m\u001b[0m\n\u001b[0;32m    597\u001b[0m         \u001b[1;32melse\u001b[0m\u001b[1;33m:\u001b[0m\u001b[1;33m\u001b[0m\u001b[1;33m\u001b[0m\u001b[0m\n\u001b[1;32m--> 598\u001b[1;33m             \u001b[0mestimator\u001b[0m\u001b[1;33m.\u001b[0m\u001b[0mfit\u001b[0m\u001b[1;33m(\u001b[0m\u001b[0mX_train\u001b[0m\u001b[1;33m,\u001b[0m \u001b[0my_train\u001b[0m\u001b[1;33m,\u001b[0m \u001b[1;33m**\u001b[0m\u001b[0mfit_params\u001b[0m\u001b[1;33m)\u001b[0m\u001b[1;33m\u001b[0m\u001b[1;33m\u001b[0m\u001b[0m\n\u001b[0m\u001b[0;32m    599\u001b[0m \u001b[1;33m\u001b[0m\u001b[0m\n\u001b[0;32m    600\u001b[0m     \u001b[1;32mexcept\u001b[0m \u001b[0mException\u001b[0m \u001b[1;32mas\u001b[0m \u001b[0me\u001b[0m\u001b[1;33m:\u001b[0m\u001b[1;33m\u001b[0m\u001b[1;33m\u001b[0m\u001b[0m\n",
      "\u001b[1;32m~\\anaconda3\\lib\\site-packages\\sklearn\\pipeline.py\u001b[0m in \u001b[0;36mfit\u001b[1;34m(self, X, y, **fit_params)\u001b[0m\n\u001b[0;32m    344\u001b[0m             \u001b[1;32mif\u001b[0m \u001b[0mself\u001b[0m\u001b[1;33m.\u001b[0m\u001b[0m_final_estimator\u001b[0m \u001b[1;33m!=\u001b[0m \u001b[1;34m'passthrough'\u001b[0m\u001b[1;33m:\u001b[0m\u001b[1;33m\u001b[0m\u001b[1;33m\u001b[0m\u001b[0m\n\u001b[0;32m    345\u001b[0m                 \u001b[0mfit_params_last_step\u001b[0m \u001b[1;33m=\u001b[0m \u001b[0mfit_params_steps\u001b[0m\u001b[1;33m[\u001b[0m\u001b[0mself\u001b[0m\u001b[1;33m.\u001b[0m\u001b[0msteps\u001b[0m\u001b[1;33m[\u001b[0m\u001b[1;33m-\u001b[0m\u001b[1;36m1\u001b[0m\u001b[1;33m]\u001b[0m\u001b[1;33m[\u001b[0m\u001b[1;36m0\u001b[0m\u001b[1;33m]\u001b[0m\u001b[1;33m]\u001b[0m\u001b[1;33m\u001b[0m\u001b[1;33m\u001b[0m\u001b[0m\n\u001b[1;32m--> 346\u001b[1;33m                 \u001b[0mself\u001b[0m\u001b[1;33m.\u001b[0m\u001b[0m_final_estimator\u001b[0m\u001b[1;33m.\u001b[0m\u001b[0mfit\u001b[0m\u001b[1;33m(\u001b[0m\u001b[0mXt\u001b[0m\u001b[1;33m,\u001b[0m \u001b[0my\u001b[0m\u001b[1;33m,\u001b[0m \u001b[1;33m**\u001b[0m\u001b[0mfit_params_last_step\u001b[0m\u001b[1;33m)\u001b[0m\u001b[1;33m\u001b[0m\u001b[1;33m\u001b[0m\u001b[0m\n\u001b[0m\u001b[0;32m    347\u001b[0m \u001b[1;33m\u001b[0m\u001b[0m\n\u001b[0;32m    348\u001b[0m         \u001b[1;32mreturn\u001b[0m \u001b[0mself\u001b[0m\u001b[1;33m\u001b[0m\u001b[1;33m\u001b[0m\u001b[0m\n",
      "\u001b[1;32m~\\anaconda3\\lib\\site-packages\\sklearn\\svm\\_base.py\u001b[0m in \u001b[0;36mfit\u001b[1;34m(self, X, y, sample_weight)\u001b[0m\n\u001b[0;32m    224\u001b[0m \u001b[1;33m\u001b[0m\u001b[0m\n\u001b[0;32m    225\u001b[0m         \u001b[0mseed\u001b[0m \u001b[1;33m=\u001b[0m \u001b[0mrnd\u001b[0m\u001b[1;33m.\u001b[0m\u001b[0mrandint\u001b[0m\u001b[1;33m(\u001b[0m\u001b[0mnp\u001b[0m\u001b[1;33m.\u001b[0m\u001b[0miinfo\u001b[0m\u001b[1;33m(\u001b[0m\u001b[1;34m'i'\u001b[0m\u001b[1;33m)\u001b[0m\u001b[1;33m.\u001b[0m\u001b[0mmax\u001b[0m\u001b[1;33m)\u001b[0m\u001b[1;33m\u001b[0m\u001b[1;33m\u001b[0m\u001b[0m\n\u001b[1;32m--> 226\u001b[1;33m         \u001b[0mfit\u001b[0m\u001b[1;33m(\u001b[0m\u001b[0mX\u001b[0m\u001b[1;33m,\u001b[0m \u001b[0my\u001b[0m\u001b[1;33m,\u001b[0m \u001b[0msample_weight\u001b[0m\u001b[1;33m,\u001b[0m \u001b[0msolver_type\u001b[0m\u001b[1;33m,\u001b[0m \u001b[0mkernel\u001b[0m\u001b[1;33m,\u001b[0m \u001b[0mrandom_seed\u001b[0m\u001b[1;33m=\u001b[0m\u001b[0mseed\u001b[0m\u001b[1;33m)\u001b[0m\u001b[1;33m\u001b[0m\u001b[1;33m\u001b[0m\u001b[0m\n\u001b[0m\u001b[0;32m    227\u001b[0m         \u001b[1;31m# see comment on the other call to np.iinfo in this file\u001b[0m\u001b[1;33m\u001b[0m\u001b[1;33m\u001b[0m\u001b[0m\n\u001b[0;32m    228\u001b[0m \u001b[1;33m\u001b[0m\u001b[0m\n",
      "\u001b[1;32m~\\anaconda3\\lib\\site-packages\\sklearn\\svm\\_base.py\u001b[0m in \u001b[0;36m_dense_fit\u001b[1;34m(self, X, y, sample_weight, solver_type, kernel, random_seed)\u001b[0m\n\u001b[0;32m    275\u001b[0m         \u001b[0mself\u001b[0m\u001b[1;33m.\u001b[0m\u001b[0msupport_\u001b[0m\u001b[1;33m,\u001b[0m \u001b[0mself\u001b[0m\u001b[1;33m.\u001b[0m\u001b[0msupport_vectors_\u001b[0m\u001b[1;33m,\u001b[0m \u001b[0mself\u001b[0m\u001b[1;33m.\u001b[0m\u001b[0m_n_support\u001b[0m\u001b[1;33m,\u001b[0m\u001b[0;31m \u001b[0m\u001b[0;31m\\\u001b[0m\u001b[1;33m\u001b[0m\u001b[1;33m\u001b[0m\u001b[0m\n\u001b[0;32m    276\u001b[0m             \u001b[0mself\u001b[0m\u001b[1;33m.\u001b[0m\u001b[0mdual_coef_\u001b[0m\u001b[1;33m,\u001b[0m \u001b[0mself\u001b[0m\u001b[1;33m.\u001b[0m\u001b[0mintercept_\u001b[0m\u001b[1;33m,\u001b[0m \u001b[0mself\u001b[0m\u001b[1;33m.\u001b[0m\u001b[0m_probA\u001b[0m\u001b[1;33m,\u001b[0m\u001b[0;31m \u001b[0m\u001b[0;31m\\\u001b[0m\u001b[1;33m\u001b[0m\u001b[1;33m\u001b[0m\u001b[0m\n\u001b[1;32m--> 277\u001b[1;33m             self._probB, self.fit_status_ = libsvm.fit(\n\u001b[0m\u001b[0;32m    278\u001b[0m                 \u001b[0mX\u001b[0m\u001b[1;33m,\u001b[0m \u001b[0my\u001b[0m\u001b[1;33m,\u001b[0m\u001b[1;33m\u001b[0m\u001b[1;33m\u001b[0m\u001b[0m\n\u001b[0;32m    279\u001b[0m                 \u001b[0msvm_type\u001b[0m\u001b[1;33m=\u001b[0m\u001b[0msolver_type\u001b[0m\u001b[1;33m,\u001b[0m \u001b[0msample_weight\u001b[0m\u001b[1;33m=\u001b[0m\u001b[0msample_weight\u001b[0m\u001b[1;33m,\u001b[0m\u001b[1;33m\u001b[0m\u001b[1;33m\u001b[0m\u001b[0m\n",
      "\u001b[1;31mKeyboardInterrupt\u001b[0m: "
     ]
    }
   ],
   "source": [
    "# SVC predictors\n",
    "\n",
    "from sklearn.svm import SVC\n",
    "from sklearn.pipeline import Pipeline\n",
    "from sklearn.model_selection import GridSearchCV\n",
    "from sklearn.linear_model import LogisticRegression\n",
    "\n",
    "pipe_1 = Pipeline([\n",
    "    ('preprocessing', preprocess_pipeline), \n",
    "    ('classifier', SVC(kernel='rbf'))])\n",
    "pipe_2 = Pipeline([\n",
    "    ('preprocessing', preprocess_pipeline), \n",
    "    ('classifier', SVC(kernel='poly'))])\n",
    "pipe_3 = Pipeline([\n",
    "    ('preprocessing', preprocess_pipeline), \n",
    "    ('classifier', SVC(kernel='linear'))])\n",
    "pipe_4 = Pipeline([\n",
    "    ('preprocessing', preprocess_pipeline), \n",
    "    ('classifier', LogisticRegression())])\n",
    "\n",
    "param_grid = {\n",
    "            'classifier__gamma': [0.001,0.003, 0.01,0.03, 0.1,0.3, 1, 10, 100,200],\n",
    "            'classifier__C': [0.001,0.003, 0.01, 0.03, 0.1,0.3, 1, 10, 100,200]\n",
    "}\n",
    "param_grid_2 = {\n",
    "            'classifier__C': [0.001, 0.01 ,0.03, 0.1,0.3, 1, 10, 100]\n",
    "}\n",
    "\n",
    "grid_1 = GridSearchCV(pipe_1, param_grid, cv=kfold)\n",
    "grid_2 = GridSearchCV(pipe_2, param_grid, cv=kfold)\n",
    "grid_3 = GridSearchCV(pipe_3, param_grid, cv=kfold)\n",
    "grid_4 = GridSearchCV(pipe_4, param_grid_2, cv=kfold)\n",
    "\n",
    "grid_1.fit(X_train, y_train)\n",
    "grid_2.fit(X_train, y_train)\n",
    "grid_3.fit(X_train, y_train)\n",
    "grid_4.fit(X_train, y_train)\n",
    "\n"
   ]
  },
  {
   "cell_type": "code",
   "execution_count": null,
   "id": "7b022ab9",
   "metadata": {},
   "outputs": [],
   "source": []
  },
  {
   "cell_type": "code",
   "execution_count": null,
   "id": "012d8558",
   "metadata": {},
   "outputs": [],
   "source": []
  },
  {
   "cell_type": "code",
   "execution_count": null,
   "id": "67aa2dd4",
   "metadata": {},
   "outputs": [],
   "source": [
    "from sklearn.metrics import accuracy_score\n",
    "from sklearn.metrics import f1_score\n",
    "\n",
    "preds = [(grid_1.best_estimator_,'SVC_rbf'),(grid_2.best_estimator_,'SVC_poly'),(grid_3.best_estimator_,'SVC_rbf'),(grid_4.best_estimator_,'LogReg')]\n",
    "\n",
    "for clf,name in preds:\n",
    "    clf.fit(X_val, y_val)\n",
    "    y_pred = clf.predict(X_val)\n",
    "    print(name, accuracy_score(y_val, y_pred))\n"
   ]
  },
  {
   "cell_type": "code",
   "execution_count": null,
   "id": "93e8b528",
   "metadata": {},
   "outputs": [],
   "source": [
    "prediction_1 = grid_1.best_estimator_.predict(test_data)\n",
    "prediction_2= grid_2.best_estimator_.predict(test_data)\n",
    "prediction_3= grid_3.best_estimator_.predict(test_data)\n",
    "prediction_4= grid_4.best_estimator_.predict(test_data)"
   ]
  },
  {
   "cell_type": "code",
   "execution_count": null,
   "id": "f3692b2b",
   "metadata": {},
   "outputs": [],
   "source": [
    "import numpy as np\n",
    "\n",
    "data=np.vstack([prediction_1,prediction_2,prediction_3,prediction_4]).T\n",
    "prediction_1 = np.vstack([np.arange(len(X_train)+1,len(X_train)+len(prediction_1)+1,1),prediction_1]).T\n",
    "prediction_2 = np.vstack([np.arange(len(X_train)+1,len(X_train)+len(prediction_1)+1,1),prediction_2]).T\n",
    "prediction_3 = np.vstack([np.arange(len(X_train)+1,len(X_train)+len(prediction_1)+1,1),prediction_3]).T\n",
    "prediction_4 = np.vstack([np.arange(len(X_train)+1,len(X_train)+len(prediction_1)+1,1),prediction_4]).T\n",
    "df_prediction_1 = pd.DataFrame(prediction_1,columns=['PassengerId','Survived'])\n",
    "df_prediction_2 = pd.DataFrame(prediction_2,columns=['PassengerId','Survived'])\n",
    "df_prediction_3 = pd.DataFrame(prediction_3,columns=['PassengerId','Survived'])\n",
    "df_prediction_4 = pd.DataFrame(prediction_4,columns=['PassengerId','Survived'])\n",
    "\n",
    "\n",
    "df_prediction_1.to_csv(os.path.join(\"C:\\\\Users\\\\barak\\\\Documents\\\\GitHub\\\\\\Kaggle_Titanic_Competition\\\\Results\",'SVC_rbf.csv'),index=False) # BEST ONE SO FAR\n",
    "df_prediction_2.to_csv(os.path.join(\"C:\\\\Users\\\\barak\\\\Documents\\\\GitHub\\\\\\Kaggle_Titanic_Competition\\\\Results\",'SVC_poly.csv'),index=False)\n",
    "df_prediction_3.to_csv(os.path.join(\"C:\\\\Users\\\\barak\\\\Documents\\\\GitHub\\\\\\Kaggle_Titanic_Competition\\\\Results\",'SVC_lin.csv'),index=False)\n",
    "df_prediction_4.to_csv(os.path.join(\"C:\\\\Users\\\\barak\\\\Documents\\\\GitHub\\\\\\Kaggle_Titanic_Competition\\\\Results\",'LogReg.csv'),index=False)\n"
   ]
  },
  {
   "attachments": {
    "image.png": {
     "image/png": "[encoded data removed]"
    }
   },
   "cell_type": "markdown",
   "id": "1232c12b",
   "metadata": {},
   "source": [
    "Best one:  **SVM**:\n",
    "+ kernel: rbf\n",
    "+ C = 100\n",
    "+ gamma = 0.01\n",
    "![image.png](attachment:image.png)"
   ]
  },
  {
   "cell_type": "code",
   "execution_count": null,
   "id": "76efd8f0",
   "metadata": {},
   "outputs": [],
   "source": [
    "grid_1.best_estimator_"
   ]
  },
  {
   "cell_type": "code",
   "execution_count": null,
   "id": "2c1f1d34",
   "metadata": {},
   "outputs": [],
   "source": [
    "X_val"
   ]
  },
  {
   "cell_type": "code",
   "execution_count": null,
   "id": "d4b74d27",
   "metadata": {},
   "outputs": [],
   "source": [
    "X_train"
   ]
  },
  {
   "cell_type": "code",
   "execution_count": 14,
   "id": "87de6ec1",
   "metadata": {},
   "outputs": [],
   "source": [
    "X_val = preprocess_pipeline.transform(X_val)\n",
    "X_train = preprocess_pipeline.transform(X_train)"
   ]
  },
  {
   "cell_type": "code",
   "execution_count": null,
   "id": "dce97502",
   "metadata": {},
   "outputs": [],
   "source": [
    "X_val = pd.DataFrame(X_val)\n",
    "X_train = pd.DataFrame(X_train)"
   ]
  },
  {
   "cell_type": "code",
   "execution_count": 15,
   "id": "d7d470ce",
   "metadata": {},
   "outputs": [
    {
     "data": {
      "text/plain": [
       "array([[-0.10520516,  0.83827931,  0.        , ...,  0.        ,\n",
       "         0.        ,  1.        ],\n",
       "       [ 0.02967173, -0.36022444,  0.        , ...,  0.        ,\n",
       "         0.        ,  1.        ],\n",
       "       [ 1.44587899,  0.83827931,  0.        , ...,  0.        ,\n",
       "         0.        ,  1.        ],\n",
       "       ...,\n",
       "       [-0.10520516,  0.83827931,  0.        , ...,  0.        ,\n",
       "         0.        ,  1.        ],\n",
       "       [-1.92604307, -0.36022444,  1.        , ...,  0.        ,\n",
       "         0.        ,  1.        ],\n",
       "       [ 0.50174082, -1.55872819,  0.        , ...,  0.        ,\n",
       "         0.        ,  0.        ]])"
      ]
     },
     "execution_count": 15,
     "metadata": {},
     "output_type": "execute_result"
    }
   ],
   "source": [
    "X_train"
   ]
  },
  {
   "cell_type": "code",
   "execution_count": 16,
   "id": "ecef55b4",
   "metadata": {},
   "outputs": [
    {
     "data": {
      "text/plain": [
       "array([[ 0.16454861,  0.83827931,  0.        , ...,  0.        ,\n",
       "         0.        ,  1.        ],\n",
       "       [-0.37495892, -1.55872819,  1.        , ...,  0.        ,\n",
       "         0.        ,  0.        ],\n",
       "       [-0.71215113, -1.55872819,  0.        , ...,  0.        ,\n",
       "         0.        ,  0.        ],\n",
       "       ...,\n",
       "       [ 0.02967173, -0.36022444,  0.        , ...,  0.        ,\n",
       "         0.        ,  1.        ],\n",
       "       [-0.40867814,  0.83827931,  1.        , ...,  0.        ,\n",
       "         0.        ,  1.        ],\n",
       "       [-0.44239736, -0.36022444,  0.        , ...,  0.        ,\n",
       "         0.        ,  1.        ]])"
      ]
     },
     "execution_count": 16,
     "metadata": {},
     "output_type": "execute_result"
    }
   ],
   "source": [
    "X_val"
   ]
  },
  {
   "cell_type": "markdown",
   "id": "b07c4fb3",
   "metadata": {},
   "source": [
    "## Deep Learning"
   ]
  },
  {
   "cell_type": "code",
   "execution_count": 18,
   "id": "0c915311",
   "metadata": {},
   "outputs": [
    {
     "name": "stdout",
     "output_type": "stream",
     "text": [
      "Model: \"sequential_1\"\n",
      "_________________________________________________________________\n",
      " Layer (type)                Output Shape              Param #   \n",
      "=================================================================\n",
      " dense_4 (Dense)             (None, 4000)              5596000   \n",
      "                                                                 \n",
      " batch_normalization_1 (Batc  (None, 4000)             16000     \n",
      " hNormalization)                                                 \n",
      "                                                                 \n",
      " dense_5 (Dense)             (None, 2000)              8002000   \n",
      "                                                                 \n",
      " batch_normalization_2 (Batc  (None, 2000)             8000      \n",
      " hNormalization)                                                 \n",
      "                                                                 \n",
      " dense_6 (Dense)             (None, 1000)              2001000   \n",
      "                                                                 \n",
      " batch_normalization_3 (Batc  (None, 1000)             4000      \n",
      " hNormalization)                                                 \n",
      "                                                                 \n",
      " dense_7 (Dense)             (None, 1)                 1001      \n",
      "                                                                 \n",
      "=================================================================\n",
      "Total params: 15,628,001\n",
      "Trainable params: 15,614,001\n",
      "Non-trainable params: 14,000\n",
      "_________________________________________________________________\n",
      "Epoch 1/100\n",
      "6/6 [==============================] - 2s 153ms/step - loss: 1.4946 - accuracy: 0.7079 - val_loss: 0.6088 - val_accuracy: 0.7151\n",
      "Epoch 2/100\n",
      "6/6 [==============================] - 0s 81ms/step - loss: 0.3767 - accuracy: 0.8933 - val_loss: 0.5903 - val_accuracy: 0.6872\n",
      "Epoch 3/100\n",
      "6/6 [==============================] - 0s 80ms/step - loss: 0.1276 - accuracy: 0.9494 - val_loss: 0.7159 - val_accuracy: 0.6648\n",
      "Epoch 4/100\n",
      "6/6 [==============================] - 0s 80ms/step - loss: 0.0504 - accuracy: 0.9860 - val_loss: 0.7574 - val_accuracy: 0.6648\n",
      "Epoch 5/100\n",
      "6/6 [==============================] - 0s 82ms/step - loss: 0.0148 - accuracy: 0.9972 - val_loss: 0.7937 - val_accuracy: 0.6536\n",
      "Epoch 6/100\n",
      "6/6 [==============================] - 0s 79ms/step - loss: 0.0102 - accuracy: 0.9958 - val_loss: 0.8221 - val_accuracy: 0.6369\n",
      "Epoch 7/100\n",
      "6/6 [==============================] - 0s 82ms/step - loss: 0.0024 - accuracy: 1.0000 - val_loss: 0.8574 - val_accuracy: 0.6313\n",
      "Epoch 8/100\n",
      "6/6 [==============================] - 0s 83ms/step - loss: 7.8665e-04 - accuracy: 1.0000 - val_loss: 0.8873 - val_accuracy: 0.6257\n",
      "Epoch 9/100\n",
      "6/6 [==============================] - 0s 82ms/step - loss: 5.7666e-04 - accuracy: 1.0000 - val_loss: 0.9099 - val_accuracy: 0.6257\n",
      "Epoch 10/100\n",
      "6/6 [==============================] - 0s 81ms/step - loss: 0.0013 - accuracy: 1.0000 - val_loss: 0.9279 - val_accuracy: 0.6257\n",
      "Epoch 11/100\n",
      "6/6 [==============================] - 1s 89ms/step - loss: 3.9676e-04 - accuracy: 1.0000 - val_loss: 0.9527 - val_accuracy: 0.6257\n",
      "Epoch 12/100\n",
      "6/6 [==============================] - 1s 83ms/step - loss: 4.0457e-04 - accuracy: 1.0000 - val_loss: 0.9731 - val_accuracy: 0.6257\n",
      "Epoch 13/100\n",
      "6/6 [==============================] - 0s 83ms/step - loss: 3.1673e-04 - accuracy: 1.0000 - val_loss: 0.9856 - val_accuracy: 0.6257\n",
      "Epoch 14/100\n",
      "6/6 [==============================] - 0s 81ms/step - loss: 1.9269e-04 - accuracy: 1.0000 - val_loss: 0.9968 - val_accuracy: 0.6257\n",
      "Epoch 15/100\n",
      "6/6 [==============================] - 0s 81ms/step - loss: 2.9886e-04 - accuracy: 1.0000 - val_loss: 1.0053 - val_accuracy: 0.6257\n",
      "Epoch 16/100\n",
      "6/6 [==============================] - 1s 89ms/step - loss: 1.9955e-04 - accuracy: 1.0000 - val_loss: 1.0139 - val_accuracy: 0.6257\n",
      "Epoch 17/100\n",
      "6/6 [==============================] - 1s 85ms/step - loss: 2.2488e-04 - accuracy: 1.0000 - val_loss: 1.0221 - val_accuracy: 0.6257\n",
      "Epoch 18/100\n",
      "6/6 [==============================] - 1s 84ms/step - loss: 1.2300e-04 - accuracy: 1.0000 - val_loss: 1.0256 - val_accuracy: 0.6257\n",
      "Epoch 19/100\n",
      "6/6 [==============================] - 1s 85ms/step - loss: 1.2229e-04 - accuracy: 1.0000 - val_loss: 1.0290 - val_accuracy: 0.6257\n",
      "Epoch 20/100\n",
      "6/6 [==============================] - 0s 83ms/step - loss: 3.2143e-04 - accuracy: 1.0000 - val_loss: 1.0336 - val_accuracy: 0.6257\n",
      "Epoch 21/100\n",
      "6/6 [==============================] - 0s 83ms/step - loss: 5.9389e-04 - accuracy: 1.0000 - val_loss: 1.0389 - val_accuracy: 0.6257\n",
      "Epoch 22/100\n",
      "6/6 [==============================] - 1s 83ms/step - loss: 1.3398e-04 - accuracy: 1.0000 - val_loss: 1.0455 - val_accuracy: 0.6257\n",
      "Epoch 23/100\n",
      "6/6 [==============================] - 1s 85ms/step - loss: 1.8546e-04 - accuracy: 1.0000 - val_loss: 1.0480 - val_accuracy: 0.6257\n",
      "Epoch 24/100\n",
      "6/6 [==============================] - 1s 88ms/step - loss: 1.2384e-04 - accuracy: 1.0000 - val_loss: 1.0468 - val_accuracy: 0.6257\n",
      "Epoch 25/100\n",
      "6/6 [==============================] - 1s 86ms/step - loss: 1.4288e-04 - accuracy: 1.0000 - val_loss: 1.0454 - val_accuracy: 0.6257\n",
      "Epoch 26/100\n",
      "6/6 [==============================] - 0s 81ms/step - loss: 1.3038e-04 - accuracy: 1.0000 - val_loss: 1.0433 - val_accuracy: 0.6257\n",
      "Epoch 27/100\n",
      "6/6 [==============================] - 0s 81ms/step - loss: 8.3864e-05 - accuracy: 1.0000 - val_loss: 1.0406 - val_accuracy: 0.6257\n",
      "Epoch 28/100\n",
      "6/6 [==============================] - 1s 83ms/step - loss: 9.0716e-05 - accuracy: 1.0000 - val_loss: 1.0350 - val_accuracy: 0.6257\n",
      "Epoch 29/100\n",
      "6/6 [==============================] - 0s 81ms/step - loss: 1.0364e-04 - accuracy: 1.0000 - val_loss: 1.0286 - val_accuracy: 0.6257\n",
      "Epoch 30/100\n",
      "6/6 [==============================] - 1s 86ms/step - loss: 8.9540e-05 - accuracy: 1.0000 - val_loss: 1.0239 - val_accuracy: 0.6257\n",
      "Epoch 31/100\n",
      "6/6 [==============================] - 0s 81ms/step - loss: 1.0723e-04 - accuracy: 1.0000 - val_loss: 1.0195 - val_accuracy: 0.6257\n",
      "Epoch 32/100\n",
      "6/6 [==============================] - 1s 88ms/step - loss: 2.4690e-04 - accuracy: 1.0000 - val_loss: 1.0178 - val_accuracy: 0.6257\n",
      "Epoch 33/100\n",
      "6/6 [==============================] - 1s 87ms/step - loss: 7.4560e-05 - accuracy: 1.0000 - val_loss: 1.0171 - val_accuracy: 0.6257\n",
      "Epoch 34/100\n",
      "6/6 [==============================] - 1s 84ms/step - loss: 7.5909e-05 - accuracy: 1.0000 - val_loss: 1.0105 - val_accuracy: 0.6257\n",
      "Epoch 35/100\n",
      "6/6 [==============================] - 1s 87ms/step - loss: 5.1567e-05 - accuracy: 1.0000 - val_loss: 1.0070 - val_accuracy: 0.6257\n",
      "Epoch 36/100\n",
      "6/6 [==============================] - 1s 87ms/step - loss: 6.2132e-05 - accuracy: 1.0000 - val_loss: 1.0003 - val_accuracy: 0.6257\n",
      "Epoch 37/100\n",
      "6/6 [==============================] - 0s 83ms/step - loss: 8.8330e-05 - accuracy: 1.0000 - val_loss: 0.9971 - val_accuracy: 0.6313\n",
      "Epoch 38/100\n",
      "6/6 [==============================] - 1s 85ms/step - loss: 9.7637e-05 - accuracy: 1.0000 - val_loss: 0.9865 - val_accuracy: 0.6313\n",
      "Epoch 39/100\n",
      "6/6 [==============================] - 0s 81ms/step - loss: 1.1334e-04 - accuracy: 1.0000 - val_loss: 0.9766 - val_accuracy: 0.6369\n",
      "Epoch 40/100\n",
      "6/6 [==============================] - 0s 82ms/step - loss: 1.1659e-04 - accuracy: 1.0000 - val_loss: 0.9722 - val_accuracy: 0.6369\n",
      "Epoch 41/100\n",
      "6/6 [==============================] - 0s 80ms/step - loss: 5.6127e-05 - accuracy: 1.0000 - val_loss: 0.9656 - val_accuracy: 0.6536\n",
      "Epoch 42/100\n",
      "6/6 [==============================] - 0s 80ms/step - loss: 5.1775e-05 - accuracy: 1.0000 - val_loss: 0.9544 - val_accuracy: 0.6536\n",
      "Epoch 43/100\n",
      "6/6 [==============================] - 0s 82ms/step - loss: 5.3762e-05 - accuracy: 1.0000 - val_loss: 0.9458 - val_accuracy: 0.6592\n",
      "Epoch 44/100\n",
      "6/6 [==============================] - 1s 88ms/step - loss: 8.0730e-05 - accuracy: 1.0000 - val_loss: 0.9345 - val_accuracy: 0.6648\n",
      "Epoch 45/100\n",
      "6/6 [==============================] - 1s 85ms/step - loss: 4.8664e-05 - accuracy: 1.0000 - val_loss: 0.9270 - val_accuracy: 0.6704\n",
      "Epoch 46/100\n",
      "6/6 [==============================] - 0s 82ms/step - loss: 4.7760e-05 - accuracy: 1.0000 - val_loss: 0.9170 - val_accuracy: 0.6760\n",
      "Epoch 47/100\n"
     ]
    },
    {
     "name": "stdout",
     "output_type": "stream",
     "text": [
      "6/6 [==============================] - 1s 90ms/step - loss: 9.3618e-05 - accuracy: 1.0000 - val_loss: 0.9092 - val_accuracy: 0.6760\n",
      "Epoch 48/100\n",
      "6/6 [==============================] - 0s 83ms/step - loss: 5.2886e-05 - accuracy: 1.0000 - val_loss: 0.8998 - val_accuracy: 0.6872\n",
      "Epoch 49/100\n",
      "6/6 [==============================] - 1s 91ms/step - loss: 5.8260e-05 - accuracy: 1.0000 - val_loss: 0.8897 - val_accuracy: 0.6872\n",
      "Epoch 50/100\n",
      "6/6 [==============================] - 1s 88ms/step - loss: 4.8940e-05 - accuracy: 1.0000 - val_loss: 0.8796 - val_accuracy: 0.6872\n",
      "Epoch 51/100\n",
      "6/6 [==============================] - 0s 84ms/step - loss: 5.5627e-05 - accuracy: 1.0000 - val_loss: 0.8710 - val_accuracy: 0.6927\n",
      "Epoch 52/100\n",
      "6/6 [==============================] - 1s 86ms/step - loss: 3.8309e-05 - accuracy: 1.0000 - val_loss: 0.8613 - val_accuracy: 0.7151\n",
      "Epoch 53/100\n",
      "6/6 [==============================] - 1s 87ms/step - loss: 3.6307e-05 - accuracy: 1.0000 - val_loss: 0.8516 - val_accuracy: 0.7263\n",
      "Epoch 54/100\n",
      "6/6 [==============================] - 1s 88ms/step - loss: 4.9827e-05 - accuracy: 1.0000 - val_loss: 0.8427 - val_accuracy: 0.7263\n",
      "Epoch 55/100\n",
      "6/6 [==============================] - 0s 81ms/step - loss: 3.3708e-05 - accuracy: 1.0000 - val_loss: 0.8342 - val_accuracy: 0.7318\n",
      "Epoch 56/100\n",
      "6/6 [==============================] - 0s 83ms/step - loss: 5.1640e-05 - accuracy: 1.0000 - val_loss: 0.8278 - val_accuracy: 0.7318\n",
      "Epoch 57/100\n",
      "6/6 [==============================] - 1s 89ms/step - loss: 4.2247e-05 - accuracy: 1.0000 - val_loss: 0.8187 - val_accuracy: 0.7318\n",
      "Epoch 58/100\n",
      "6/6 [==============================] - 1s 85ms/step - loss: 4.9347e-05 - accuracy: 1.0000 - val_loss: 0.8094 - val_accuracy: 0.7318\n",
      "Epoch 59/100\n",
      "6/6 [==============================] - 1s 89ms/step - loss: 4.4832e-05 - accuracy: 1.0000 - val_loss: 0.7991 - val_accuracy: 0.7318\n",
      "Epoch 60/100\n",
      "6/6 [==============================] - 1s 84ms/step - loss: 4.1617e-05 - accuracy: 1.0000 - val_loss: 0.7937 - val_accuracy: 0.7318\n",
      "Epoch 61/100\n",
      "6/6 [==============================] - 1s 86ms/step - loss: 2.9555e-05 - accuracy: 1.0000 - val_loss: 0.7873 - val_accuracy: 0.7486\n",
      "Epoch 62/100\n",
      "6/6 [==============================] - 0s 85ms/step - loss: 3.7649e-05 - accuracy: 1.0000 - val_loss: 0.7786 - val_accuracy: 0.7709\n",
      "Epoch 63/100\n",
      "6/6 [==============================] - 1s 86ms/step - loss: 3.8125e-05 - accuracy: 1.0000 - val_loss: 0.7737 - val_accuracy: 0.7709\n",
      "Epoch 64/100\n",
      "6/6 [==============================] - 0s 83ms/step - loss: 7.5955e-05 - accuracy: 1.0000 - val_loss: 0.7659 - val_accuracy: 0.7709\n",
      "Epoch 65/100\n",
      "6/6 [==============================] - 1s 84ms/step - loss: 2.6878e-05 - accuracy: 1.0000 - val_loss: 0.7589 - val_accuracy: 0.7765\n",
      "Epoch 66/100\n",
      "6/6 [==============================] - 0s 79ms/step - loss: 2.7908e-05 - accuracy: 1.0000 - val_loss: 0.7524 - val_accuracy: 0.7821\n",
      "Epoch 67/100\n",
      "6/6 [==============================] - 0s 82ms/step - loss: 2.6268e-05 - accuracy: 1.0000 - val_loss: 0.7482 - val_accuracy: 0.7877\n",
      "Epoch 68/100\n",
      "6/6 [==============================] - 0s 84ms/step - loss: 5.9967e-05 - accuracy: 1.0000 - val_loss: 0.7458 - val_accuracy: 0.7989\n",
      "Epoch 69/100\n",
      "6/6 [==============================] - 1s 84ms/step - loss: 2.7333e-05 - accuracy: 1.0000 - val_loss: 0.7408 - val_accuracy: 0.7989\n",
      "Epoch 70/100\n",
      "6/6 [==============================] - 1s 88ms/step - loss: 5.3088e-05 - accuracy: 1.0000 - val_loss: 0.7363 - val_accuracy: 0.7989\n",
      "Epoch 71/100\n",
      "6/6 [==============================] - 1s 86ms/step - loss: 3.5155e-05 - accuracy: 1.0000 - val_loss: 0.7334 - val_accuracy: 0.7989\n",
      "Epoch 72/100\n",
      "6/6 [==============================] - 0s 79ms/step - loss: 5.4053e-05 - accuracy: 1.0000 - val_loss: 0.7298 - val_accuracy: 0.7989\n",
      "Epoch 73/100\n",
      "6/6 [==============================] - 1s 85ms/step - loss: 2.4178e-05 - accuracy: 1.0000 - val_loss: 0.7270 - val_accuracy: 0.8045\n",
      "Epoch 74/100\n",
      "6/6 [==============================] - 1s 86ms/step - loss: 3.5314e-05 - accuracy: 1.0000 - val_loss: 0.7258 - val_accuracy: 0.8101\n",
      "Epoch 75/100\n",
      "6/6 [==============================] - 0s 82ms/step - loss: 6.3406e-05 - accuracy: 1.0000 - val_loss: 0.7236 - val_accuracy: 0.8101\n",
      "Epoch 76/100\n",
      "6/6 [==============================] - 0s 82ms/step - loss: 2.6185e-05 - accuracy: 1.0000 - val_loss: 0.7214 - val_accuracy: 0.8101\n",
      "Epoch 77/100\n",
      "6/6 [==============================] - 1s 87ms/step - loss: 2.8083e-05 - accuracy: 1.0000 - val_loss: 0.7210 - val_accuracy: 0.8156\n",
      "Epoch 78/100\n",
      "6/6 [==============================] - 1s 85ms/step - loss: 3.2664e-05 - accuracy: 1.0000 - val_loss: 0.7195 - val_accuracy: 0.8156\n",
      "Epoch 79/100\n",
      "6/6 [==============================] - 0s 83ms/step - loss: 4.0935e-05 - accuracy: 1.0000 - val_loss: 0.7197 - val_accuracy: 0.8212\n",
      "Epoch 80/100\n",
      "6/6 [==============================] - 1s 87ms/step - loss: 3.2745e-05 - accuracy: 1.0000 - val_loss: 0.7187 - val_accuracy: 0.8268\n",
      "Epoch 81/100\n",
      "6/6 [==============================] - 0s 82ms/step - loss: 2.1344e-05 - accuracy: 1.0000 - val_loss: 0.7191 - val_accuracy: 0.8268\n",
      "Epoch 82/100\n",
      "6/6 [==============================] - 1s 90ms/step - loss: 2.2683e-05 - accuracy: 1.0000 - val_loss: 0.7208 - val_accuracy: 0.8268\n",
      "Epoch 83/100\n",
      "6/6 [==============================] - 0s 84ms/step - loss: 3.3189e-05 - accuracy: 1.0000 - val_loss: 0.7200 - val_accuracy: 0.8268\n",
      "Epoch 84/100\n",
      "6/6 [==============================] - 1s 83ms/step - loss: 4.1329e-05 - accuracy: 1.0000 - val_loss: 0.7223 - val_accuracy: 0.8268\n",
      "Epoch 85/100\n",
      "6/6 [==============================] - 1s 86ms/step - loss: 3.1616e-05 - accuracy: 1.0000 - val_loss: 0.7250 - val_accuracy: 0.8268\n",
      "Epoch 86/100\n",
      "6/6 [==============================] - 0s 82ms/step - loss: 2.3962e-05 - accuracy: 1.0000 - val_loss: 0.7264 - val_accuracy: 0.8268\n",
      "Epoch 87/100\n",
      "6/6 [==============================] - 1s 90ms/step - loss: 3.1371e-05 - accuracy: 1.0000 - val_loss: 0.7293 - val_accuracy: 0.8268\n",
      "Epoch 88/100\n",
      "6/6 [==============================] - 0s 80ms/step - loss: 2.2731e-05 - accuracy: 1.0000 - val_loss: 0.7303 - val_accuracy: 0.8268\n",
      "Epoch 89/100\n",
      "6/6 [==============================] - 0s 84ms/step - loss: 2.6373e-05 - accuracy: 1.0000 - val_loss: 0.7332 - val_accuracy: 0.8268\n",
      "Epoch 90/100\n",
      "6/6 [==============================] - 1s 87ms/step - loss: 3.0385e-05 - accuracy: 1.0000 - val_loss: 0.7342 - val_accuracy: 0.8268\n",
      "Epoch 91/100\n",
      "6/6 [==============================] - 0s 81ms/step - loss: 2.0341e-05 - accuracy: 1.0000 - val_loss: 0.7370 - val_accuracy: 0.8268\n",
      "Epoch 92/100\n",
      "6/6 [==============================] - 0s 83ms/step - loss: 2.3873e-05 - accuracy: 1.0000 - val_loss: 0.7405 - val_accuracy: 0.8268\n",
      "Epoch 93/100\n",
      "6/6 [==============================] - 1s 84ms/step - loss: 2.3122e-05 - accuracy: 1.0000 - val_loss: 0.7447 - val_accuracy: 0.8268\n",
      "Epoch 94/100\n",
      "6/6 [==============================] - 0s 83ms/step - loss: 2.6496e-05 - accuracy: 1.0000 - val_loss: 0.7484 - val_accuracy: 0.8268\n",
      "Epoch 95/100\n",
      "6/6 [==============================] - 1s 88ms/step - loss: 1.9985e-05 - accuracy: 1.0000 - val_loss: 0.7509 - val_accuracy: 0.8268\n",
      "Epoch 96/100\n",
      "6/6 [==============================] - 1s 83ms/step - loss: 2.3129e-05 - accuracy: 1.0000 - val_loss: 0.7541 - val_accuracy: 0.8268\n",
      "Epoch 97/100\n",
      "6/6 [==============================] - 1s 87ms/step - loss: 8.3253e-05 - accuracy: 1.0000 - val_loss: 0.7583 - val_accuracy: 0.8268\n",
      "Epoch 98/100\n",
      "6/6 [==============================] - 0s 84ms/step - loss: 2.1156e-05 - accuracy: 1.0000 - val_loss: 0.7573 - val_accuracy: 0.8268\n",
      "Epoch 99/100\n",
      "6/6 [==============================] - 1s 85ms/step - loss: 1.5794e-05 - accuracy: 1.0000 - val_loss: 0.7574 - val_accuracy: 0.8324\n",
      "Epoch 100/100\n",
      "6/6 [==============================] - 0s 83ms/step - loss: 2.2230e-05 - accuracy: 1.0000 - val_loss: 0.7594 - val_accuracy: 0.8436\n",
      "6/6 [==============================] - 0s 11ms/step - loss: 0.7594 - accuracy: 0.8436\n"
     ]
    },
    {
     "ename": "NameError",
     "evalue": "name 'plt' is not defined",
     "output_type": "error",
     "traceback": [
      "\u001b[1;31m---------------------------------------------------------------------------\u001b[0m",
      "\u001b[1;31mNameError\u001b[0m                                 Traceback (most recent call last)",
      "\u001b[1;32m~\\AppData\\Local\\Temp/ipykernel_40808/1426768380.py\u001b[0m in \u001b[0;36m<module>\u001b[1;34m\u001b[0m\n\u001b[0;32m     28\u001b[0m \u001b[1;33m\u001b[0m\u001b[0m\n\u001b[0;32m     29\u001b[0m \u001b[0mpd\u001b[0m\u001b[1;33m.\u001b[0m\u001b[0mDataFrame\u001b[0m\u001b[1;33m(\u001b[0m\u001b[0mhistory\u001b[0m\u001b[1;33m.\u001b[0m\u001b[0mhistory\u001b[0m\u001b[1;33m)\u001b[0m\u001b[1;33m.\u001b[0m\u001b[0mplot\u001b[0m\u001b[1;33m(\u001b[0m\u001b[0mfigsize\u001b[0m\u001b[1;33m=\u001b[0m\u001b[1;33m(\u001b[0m\u001b[1;36m8\u001b[0m\u001b[1;33m,\u001b[0m \u001b[1;36m5\u001b[0m\u001b[1;33m)\u001b[0m\u001b[1;33m)\u001b[0m\u001b[1;33m\u001b[0m\u001b[1;33m\u001b[0m\u001b[0m\n\u001b[1;32m---> 30\u001b[1;33m \u001b[0mplt\u001b[0m\u001b[1;33m.\u001b[0m\u001b[0mgrid\u001b[0m\u001b[1;33m(\u001b[0m\u001b[1;32mTrue\u001b[0m\u001b[1;33m)\u001b[0m\u001b[1;33m\u001b[0m\u001b[1;33m\u001b[0m\u001b[0m\n\u001b[0m\u001b[0;32m     31\u001b[0m \u001b[0mplt\u001b[0m\u001b[1;33m.\u001b[0m\u001b[0mgca\u001b[0m\u001b[1;33m(\u001b[0m\u001b[1;33m)\u001b[0m\u001b[1;33m.\u001b[0m\u001b[0mset_ylim\u001b[0m\u001b[1;33m(\u001b[0m\u001b[1;36m0\u001b[0m\u001b[1;33m,\u001b[0m \u001b[1;36m1\u001b[0m\u001b[1;33m)\u001b[0m\u001b[1;33m\u001b[0m\u001b[1;33m\u001b[0m\u001b[0m\n\u001b[0;32m     32\u001b[0m \u001b[0mplt\u001b[0m\u001b[1;33m.\u001b[0m\u001b[0mshow\u001b[0m\u001b[1;33m(\u001b[0m\u001b[1;33m)\u001b[0m\u001b[1;33m\u001b[0m\u001b[1;33m\u001b[0m\u001b[0m\n",
      "\u001b[1;31mNameError\u001b[0m: name 'plt' is not defined"
     ]
    },
    {
     "data": {
      "image/png": "[encoded data removed]",
      "text/plain": [
       "<Figure size 576x360 with 1 Axes>"
      ]
     },
     "metadata": {
      "needs_background": "light"
     },
     "output_type": "display_data"
    }
   ],
   "source": [
    "#NEXT Pipeline\n",
    "\n",
    "from keras.models import Sequential\n",
    "from keras.layers import BatchNormalization\n",
    "from keras.layers import Dense\n",
    "\n",
    "from keras.callbacks import History\n",
    "\n",
    "\n",
    "model = Sequential()\n",
    "model.add(Dense(4000,activation=\"relu\", input_shape=(X_train.shape[1],)))\n",
    "model.add(BatchNormalization())\n",
    "model.add(Dense(2000,activation=\"relu\"))\n",
    "model.add(BatchNormalization())\n",
    "model.add(Dense(1000,activation=\"relu\"))\n",
    "model.add(BatchNormalization())\n",
    "model.add(Dense(1,activation=\"sigmoid\"))\n",
    "model.summary()\n",
    "model.compile(loss=\"binary_crossentropy\", optimizer=\"Adam\", metrics=[\"accuracy\"])\n",
    "history = model.fit(X_train, y_train, validation_data= (X_val, y_val), batch_size=128, epochs=300)\n",
    "\n",
    "model.evaluate(X_val,y_val)\n",
    "\n",
    "from sklearn import  metrics\n",
    "import matplotlib.pyplot as plt \n",
    "\n",
    "import pandas as pd\n",
    "\n",
    "pd.DataFrame(history.history).plot(figsize=(8, 5))\n",
    "plt.grid(True)\n",
    "plt.gca().set_ylim(0, 1)\n",
    "plt.show()"
   ]
  },
  {
   "cell_type": "code",
   "execution_count": 20,
   "id": "ba0427bd",
   "metadata": {},
   "outputs": [
    {
     "ename": "ValueError",
     "evalue": "Classification metrics can't handle a mix of binary and multilabel-indicator targets",
     "output_type": "error",
     "traceback": [
      "\u001b[1;31m---------------------------------------------------------------------------\u001b[0m",
      "\u001b[1;31mValueError\u001b[0m                                Traceback (most recent call last)",
      "\u001b[1;32m~\\AppData\\Local\\Temp/ipykernel_40808/1209010875.py\u001b[0m in \u001b[0;36m<module>\u001b[1;34m\u001b[0m\n\u001b[1;32m----> 1\u001b[1;33m \u001b[0mmetrics\u001b[0m\u001b[1;33m.\u001b[0m\u001b[0maccuracy_score\u001b[0m\u001b[1;33m(\u001b[0m\u001b[0my_true\u001b[0m\u001b[1;33m=\u001b[0m \u001b[0my_val\u001b[0m\u001b[1;33m,\u001b[0m \u001b[0my_pred\u001b[0m\u001b[1;33m=\u001b[0m \u001b[1;33m(\u001b[0m\u001b[0mX_val\u001b[0m  \u001b[1;33m>\u001b[0m \u001b[1;36m0.5\u001b[0m\u001b[1;33m)\u001b[0m\u001b[1;33m)\u001b[0m\u001b[1;33m\u001b[0m\u001b[1;33m\u001b[0m\u001b[0m\n\u001b[0m",
      "\u001b[1;32m~\\anaconda3\\lib\\site-packages\\sklearn\\utils\\validation.py\u001b[0m in \u001b[0;36minner_f\u001b[1;34m(*args, **kwargs)\u001b[0m\n\u001b[0;32m     61\u001b[0m             \u001b[0mextra_args\u001b[0m \u001b[1;33m=\u001b[0m \u001b[0mlen\u001b[0m\u001b[1;33m(\u001b[0m\u001b[0margs\u001b[0m\u001b[1;33m)\u001b[0m \u001b[1;33m-\u001b[0m \u001b[0mlen\u001b[0m\u001b[1;33m(\u001b[0m\u001b[0mall_args\u001b[0m\u001b[1;33m)\u001b[0m\u001b[1;33m\u001b[0m\u001b[1;33m\u001b[0m\u001b[0m\n\u001b[0;32m     62\u001b[0m             \u001b[1;32mif\u001b[0m \u001b[0mextra_args\u001b[0m \u001b[1;33m<=\u001b[0m \u001b[1;36m0\u001b[0m\u001b[1;33m:\u001b[0m\u001b[1;33m\u001b[0m\u001b[1;33m\u001b[0m\u001b[0m\n\u001b[1;32m---> 63\u001b[1;33m                 \u001b[1;32mreturn\u001b[0m \u001b[0mf\u001b[0m\u001b[1;33m(\u001b[0m\u001b[1;33m*\u001b[0m\u001b[0margs\u001b[0m\u001b[1;33m,\u001b[0m \u001b[1;33m**\u001b[0m\u001b[0mkwargs\u001b[0m\u001b[1;33m)\u001b[0m\u001b[1;33m\u001b[0m\u001b[1;33m\u001b[0m\u001b[0m\n\u001b[0m\u001b[0;32m     64\u001b[0m \u001b[1;33m\u001b[0m\u001b[0m\n\u001b[0;32m     65\u001b[0m             \u001b[1;31m# extra_args > 0\u001b[0m\u001b[1;33m\u001b[0m\u001b[1;33m\u001b[0m\u001b[0m\n",
      "\u001b[1;32m~\\anaconda3\\lib\\site-packages\\sklearn\\metrics\\_classification.py\u001b[0m in \u001b[0;36maccuracy_score\u001b[1;34m(y_true, y_pred, normalize, sample_weight)\u001b[0m\n\u001b[0;32m    200\u001b[0m \u001b[1;33m\u001b[0m\u001b[0m\n\u001b[0;32m    201\u001b[0m     \u001b[1;31m# Compute accuracy for each possible representation\u001b[0m\u001b[1;33m\u001b[0m\u001b[1;33m\u001b[0m\u001b[0m\n\u001b[1;32m--> 202\u001b[1;33m     \u001b[0my_type\u001b[0m\u001b[1;33m,\u001b[0m \u001b[0my_true\u001b[0m\u001b[1;33m,\u001b[0m \u001b[0my_pred\u001b[0m \u001b[1;33m=\u001b[0m \u001b[0m_check_targets\u001b[0m\u001b[1;33m(\u001b[0m\u001b[0my_true\u001b[0m\u001b[1;33m,\u001b[0m \u001b[0my_pred\u001b[0m\u001b[1;33m)\u001b[0m\u001b[1;33m\u001b[0m\u001b[1;33m\u001b[0m\u001b[0m\n\u001b[0m\u001b[0;32m    203\u001b[0m     \u001b[0mcheck_consistent_length\u001b[0m\u001b[1;33m(\u001b[0m\u001b[0my_true\u001b[0m\u001b[1;33m,\u001b[0m \u001b[0my_pred\u001b[0m\u001b[1;33m,\u001b[0m \u001b[0msample_weight\u001b[0m\u001b[1;33m)\u001b[0m\u001b[1;33m\u001b[0m\u001b[1;33m\u001b[0m\u001b[0m\n\u001b[0;32m    204\u001b[0m     \u001b[1;32mif\u001b[0m \u001b[0my_type\u001b[0m\u001b[1;33m.\u001b[0m\u001b[0mstartswith\u001b[0m\u001b[1;33m(\u001b[0m\u001b[1;34m'multilabel'\u001b[0m\u001b[1;33m)\u001b[0m\u001b[1;33m:\u001b[0m\u001b[1;33m\u001b[0m\u001b[1;33m\u001b[0m\u001b[0m\n",
      "\u001b[1;32m~\\anaconda3\\lib\\site-packages\\sklearn\\metrics\\_classification.py\u001b[0m in \u001b[0;36m_check_targets\u001b[1;34m(y_true, y_pred)\u001b[0m\n\u001b[0;32m     90\u001b[0m \u001b[1;33m\u001b[0m\u001b[0m\n\u001b[0;32m     91\u001b[0m     \u001b[1;32mif\u001b[0m \u001b[0mlen\u001b[0m\u001b[1;33m(\u001b[0m\u001b[0my_type\u001b[0m\u001b[1;33m)\u001b[0m \u001b[1;33m>\u001b[0m \u001b[1;36m1\u001b[0m\u001b[1;33m:\u001b[0m\u001b[1;33m\u001b[0m\u001b[1;33m\u001b[0m\u001b[0m\n\u001b[1;32m---> 92\u001b[1;33m         raise ValueError(\"Classification metrics can't handle a mix of {0} \"\n\u001b[0m\u001b[0;32m     93\u001b[0m                          \"and {1} targets\".format(type_true, type_pred))\n\u001b[0;32m     94\u001b[0m \u001b[1;33m\u001b[0m\u001b[0m\n",
      "\u001b[1;31mValueError\u001b[0m: Classification metrics can't handle a mix of binary and multilabel-indicator targets"
     ]
    }
   ],
   "source": [
    "metrics.accuracy_score(y_true= y_val, y_pred= (model.predict((X_val))  > 0.5))\n"
   ]
  },
  {
   "cell_type": "code",
   "execution_count": null,
   "id": "743dc1d7",
   "metadata": {},
   "outputs": [],
   "source": []
  },
  {
   "cell_type": "code",
   "execution_count": null,
   "id": "972f81f9",
   "metadata": {},
   "outputs": [],
   "source": []
  }
 ],
 "metadata": {
  "kernelspec": {
   "display_name": "Python 3 (ipykernel)",
   "language": "python",
   "name": "python3"
  },
  "language_info": {
   "codemirror_mode": {
    "name": "ipython",
    "version": 3
   },
   "file_extension": ".py",
   "mimetype": "text/x-python",
   "name": "python",
   "nbconvert_exporter": "python",
   "pygments_lexer": "ipython3",
   "version": "3.9.7"
  }
 },
 "nbformat": 4,
 "nbformat_minor": 5
}
